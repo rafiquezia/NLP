{
  "nbformat": 4,
  "nbformat_minor": 0,
  "metadata": {
    "colab": {
      "provenance": [],
      "authorship_tag": "ABX9TyMcfSPX2PO5c1Whai6XaXS5",
      "include_colab_link": true
    },
    "kernelspec": {
      "name": "python3",
      "display_name": "Python 3"
    },
    "language_info": {
      "name": "python"
    }
  },
  "cells": [
    {
      "cell_type": "markdown",
      "metadata": {
        "id": "view-in-github",
        "colab_type": "text"
      },
      "source": [
        "<a href=\"https://colab.research.google.com/github/rafiquezia/NLP/blob/main/NLPbasics.ipynb\" target=\"_parent\"><img src=\"https://colab.research.google.com/assets/colab-badge.svg\" alt=\"Open In Colab\"/></a>"
      ]
    },
    {
      "cell_type": "code",
      "execution_count": 1,
      "metadata": {
        "id": "srsMf1KIKfdh"
      },
      "outputs": [],
      "source": [
        "import tensorflow as tf\n",
        "from tensorflow import keras\n",
        "from tensorflow.keras.preprocessing.text import Tokenizer"
      ]
    },
    {
      "cell_type": "code",
      "source": [
        "#TOKENIZATION\n",
        "sentence = ['I am going to school', 'I am going to jail']\n",
        "tokenizer = Tokenizer(num_words=100)\n",
        "tokenizer.fit_on_texts(sentence)\n",
        "windex = tokenizer.word_index\n",
        "print(windex)"
      ],
      "metadata": {
        "colab": {
          "base_uri": "https://localhost:8080/"
        },
        "id": "-j5R_dIKLW0b",
        "outputId": "7d26c300-9f49-4521-ae60-e39dab52a91a"
      },
      "execution_count": 5,
      "outputs": [
        {
          "output_type": "stream",
          "name": "stdout",
          "text": [
            "{'i': 1, 'am': 2, 'going': 3, 'to': 4, 'school': 5, 'jail': 6}\n"
          ]
        }
      ]
    },
    {
      "cell_type": "code",
      "source": [
        "#Sequencing of words\n",
        "tokenizer = Tokenizer(num_words=100)\n",
        "tokenizer.fit_on_texts(sentence)\n",
        "seq = tokenizer.texts_to_sequences(sentence)\n",
        "wi = tokenizer.word_index\n",
        "print(wi)\n",
        "print(seq)"
      ],
      "metadata": {
        "colab": {
          "base_uri": "https://localhost:8080/"
        },
        "id": "ujo6RpJ5Neld",
        "outputId": "50aaed61-bd3b-46a5-f2f9-386a195540f6"
      },
      "execution_count": 16,
      "outputs": [
        {
          "output_type": "stream",
          "name": "stdout",
          "text": [
            "{'i': 1, 'am': 2, 'going': 3, 'to': 4, 'school': 5, 'jail': 6}\n",
            "[[1, 2, 3, 4, 5], [1, 2, 3, 4, 6]]\n"
          ]
        }
      ]
    },
    {
      "cell_type": "code",
      "source": [
        "#If we provide words out of the vocubalry of tokenizer, the new words wont be recogized\n",
        "sentence1 = ['I am going to school', 'I am going to jail', 'I have to choose one', ' I guess school would be amazing']\n",
        "seq1 = tokenizer.texts_to_sequences(sentence1)\n",
        "wi1 = tokenizer.word_index\n",
        "print(wi1)\n",
        "print(seq1)\n",
        "#for the fourth sentence there are only two number 1 and 5 resting are not recognized by the tokenizer"
      ],
      "metadata": {
        "colab": {
          "base_uri": "https://localhost:8080/"
        },
        "id": "QyYmL9VvOtDo",
        "outputId": "430a3999-8376-4dc8-b270-b27c46a63ad8"
      },
      "execution_count": 17,
      "outputs": [
        {
          "output_type": "stream",
          "name": "stdout",
          "text": [
            "{'i': 1, 'am': 2, 'going': 3, 'to': 4, 'school': 5, 'jail': 6}\n",
            "[[1, 2, 3, 4, 5], [1, 2, 3, 4, 6], [1, 4], [1, 5]]\n"
          ]
        }
      ]
    },
    {
      "cell_type": "markdown",
      "source": [
        "**To solve this issue, either we have to fit the tokenizer again**\n",
        "**Or we can issue '<oov>' method to represent the unknown words using oov**"
      ],
      "metadata": {
        "id": "7apkbW1ZR0uJ"
      }
    },
    {
      "cell_type": "code",
      "source": [
        "from tensorflow.python import while_v2\n",
        "sentence2 = ['I am going to school', 'I am going to jail', 'I have to choose one', ' I guess school would be amazing between these two']\n",
        "tokenizer = Tokenizer(num_words=100, oov_token = '<OOV>')\n",
        "tokenizer.fit_on_texts(sentence2)\n",
        "seq2 = tokenizer.texts_to_sequences(sentence2)\n",
        "wi2 = tokenizer.word_index\n",
        "print(wi2)\n",
        "print(seq2)"
      ],
      "metadata": {
        "colab": {
          "base_uri": "https://localhost:8080/"
        },
        "id": "4jGOvyDPPjsP",
        "outputId": "96f47346-24c7-4148-b5fc-fc4bbf9d5d65"
      },
      "execution_count": 24,
      "outputs": [
        {
          "output_type": "stream",
          "name": "stdout",
          "text": [
            "{'<OOV>': 1, 'i': 2, 'to': 3, 'am': 4, 'going': 5, 'school': 6, 'jail': 7, 'have': 8, 'choose': 9, 'one': 10, 'guess': 11, 'would': 12, 'be': 13, 'amazing': 14, 'between': 15, 'these': 16, 'two': 17}\n",
            "[[2, 4, 5, 3, 6], [2, 4, 5, 3, 7], [2, 8, 3, 9, 10], [2, 11, 6, 12, 13, 14, 15, 16, 17]]\n"
          ]
        }
      ]
    },
    {
      "cell_type": "code",
      "source": [
        "#now checking it by providing outta corpus words\n",
        "sentence3 = ['They want to go jail']\n",
        "seq3 = tokenizer.texts_to_sequences(sentence3)\n",
        "wi3 = tokenizer.word_index\n",
        "print(wi3)\n",
        "print(seq3)"
      ],
      "metadata": {
        "colab": {
          "base_uri": "https://localhost:8080/"
        },
        "id": "QvOcncVjSuBL",
        "outputId": "ab88603d-fff6-434c-f12e-a9a8e64c4327"
      },
      "execution_count": 25,
      "outputs": [
        {
          "output_type": "stream",
          "name": "stdout",
          "text": [
            "{'<OOV>': 1, 'i': 2, 'to': 3, 'am': 4, 'going': 5, 'school': 6, 'jail': 7, 'have': 8, 'choose': 9, 'one': 10, 'guess': 11, 'would': 12, 'be': 13, 'amazing': 14, 'between': 15, 'these': 16, 'two': 17}\n",
            "[[1, 1, 3, 1, 7]]\n"
          ]
        }
      ]
    },
    {
      "cell_type": "markdown",
      "source": [
        "**Usually models accepts same length of inputs, to resolve this issue**\n",
        "**we do padding**"
      ],
      "metadata": {
        "id": "ebLOhD_3T6WK"
      }
    },
    {
      "cell_type": "code",
      "source": [
        "#importing library\n",
        "from tensorflow.keras.preprocessing.sequence import pad_sequences\n",
        "padded = pad_sequences(seq2)\n",
        "print(padded)"
      ],
      "metadata": {
        "colab": {
          "base_uri": "https://localhost:8080/"
        },
        "id": "MCo3cSzpURU_",
        "outputId": "ccf78c26-e457-481e-88b8-c73a2ab3973c"
      },
      "execution_count": 26,
      "outputs": [
        {
          "output_type": "stream",
          "name": "stdout",
          "text": [
            "[[ 0  0  0  0  2  4  5  3  6]\n",
            " [ 0  0  0  0  2  4  5  3  7]\n",
            " [ 0  0  0  0  2  8  3  9 10]\n",
            " [ 2 11  6 12 13 14 15 16 17]]\n"
          ]
        }
      ]
    },
    {
      "cell_type": "code",
      "source": [
        "#we can have zeros in the end\n",
        "pad = pad_sequences(seq2, padding ='post')\n",
        "#we can also limit the lenght instead of it to follow the longest sentence\n",
        "pad1 = pad_sequences(seq2, padding ='post', maxlen = 7 )\n",
        "#while limiting the length we can decide from where to chop the additional word\n",
        "pad2 = pad_sequences(seq2, padding='post', maxlen = 6, truncating= 'post')\n",
        "print(pad2)"
      ],
      "metadata": {
        "colab": {
          "base_uri": "https://localhost:8080/"
        },
        "id": "RCgEw7jVVSEx",
        "outputId": "32913811-fdd0-4d07-ce6a-8ca22d92e8cc"
      },
      "execution_count": 29,
      "outputs": [
        {
          "output_type": "stream",
          "name": "stdout",
          "text": [
            "[[ 2  4  5  3  6  0]\n",
            " [ 2  4  5  3  7  0]\n",
            " [ 2  8  3  9 10  0]\n",
            " [ 2 11  6 12 13 14]]\n"
          ]
        }
      ]
    },
    {
      "cell_type": "code",
      "source": [],
      "metadata": {
        "id": "x0kKHQhcVxWK"
      },
      "execution_count": null,
      "outputs": []
    }
  ]
}